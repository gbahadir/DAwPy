{
 "cells": [
  {
   "cell_type": "code",
   "execution_count": 138,
   "id": "5661b363-3b60-46ca-97f8-9691624308cb",
   "metadata": {},
   "outputs": [],
   "source": [
    "import numpy as np\n",
    "import pandas as pd"
   ]
  },
  {
   "cell_type": "code",
   "execution_count": 139,
   "id": "5e51c9fe",
   "metadata": {},
   "outputs": [
    {
     "data": {
      "text/plain": [
       "'HELLO1'"
      ]
     },
     "execution_count": 139,
     "metadata": {},
     "output_type": "execute_result"
    }
   ],
   "source": [
    "\"hello1\".upper()  # lower' ı  ♫ upper a çevirir"
   ]
  },
  {
   "cell_type": "code",
   "execution_count": 140,
   "id": "3d4b069a",
   "metadata": {},
   "outputs": [
    {
     "data": {
      "text/plain": [
       "'HELLO'"
      ]
     },
     "execution_count": 140,
     "metadata": {},
     "output_type": "execute_result"
    }
   ],
   "source": [
    "\"hELLO\".upper()"
   ]
  },
  {
   "cell_type": "code",
   "execution_count": 141,
   "id": "11b25b5e",
   "metadata": {},
   "outputs": [
    {
     "data": {
      "text/plain": [
       "'world'"
      ]
     },
     "execution_count": 141,
     "metadata": {},
     "output_type": "execute_result"
    }
   ],
   "source": [
    "\"WORLD\".lower()  # upper'ı ♫ lower a çevirir"
   ]
  },
  {
   "cell_type": "code",
   "execution_count": 142,
   "id": "e5892809",
   "metadata": {},
   "outputs": [
    {
     "data": {
      "text/plain": [
       "'world'"
      ]
     },
     "execution_count": 142,
     "metadata": {},
     "output_type": "execute_result"
    }
   ],
   "source": [
    "\"World\".lower()"
   ]
  },
  {
   "cell_type": "code",
   "execution_count": 143,
   "id": "73bf6824",
   "metadata": {},
   "outputs": [
    {
     "data": {
      "text/plain": [
       "False"
      ]
     },
     "execution_count": 143,
     "metadata": {},
     "output_type": "execute_result"
    }
   ],
   "source": [
    "\"How are you today\".islower()  # lower olup olmadıgına bakar tümü lower ise true döndürür(bool değerleri döndürür.)"
   ]
  },
  {
   "cell_type": "code",
   "execution_count": 144,
   "id": "5670775e",
   "metadata": {},
   "outputs": [
    {
     "data": {
      "text/plain": [
       "True"
      ]
     },
     "execution_count": 144,
     "metadata": {},
     "output_type": "execute_result"
    }
   ],
   "source": [
    "\"how are you today\".islower()"
   ]
  },
  {
   "cell_type": "code",
   "execution_count": 145,
   "id": "f750111a",
   "metadata": {},
   "outputs": [
    {
     "data": {
      "text/plain": [
       "False"
      ]
     },
     "execution_count": 145,
     "metadata": {},
     "output_type": "execute_result"
    }
   ],
   "source": [
    "\"In the end,the good always win\".isupper()   # upper olup olmadıgına bakar tümü upper ise true döndürür(bool değerleri döndürür.)"
   ]
  },
  {
   "cell_type": "code",
   "execution_count": 146,
   "id": "faf2e509",
   "metadata": {},
   "outputs": [
    {
     "data": {
      "text/plain": [
       "'IN THE END,THE GOOD ALWAYS WIN'"
      ]
     },
     "execution_count": 146,
     "metadata": {},
     "output_type": "execute_result"
    }
   ],
   "source": [
    "\"In the end,the good always win\".upper()"
   ]
  },
  {
   "cell_type": "code",
   "execution_count": 147,
   "id": "a3236412",
   "metadata": {},
   "outputs": [
    {
     "data": {
      "text/plain": [
       "True"
      ]
     },
     "execution_count": 147,
     "metadata": {},
     "output_type": "execute_result"
    }
   ],
   "source": [
    "'IN THE END,THE GOOD ALWAYS WIN'.isupper() #  :)"
   ]
  },
  {
   "cell_type": "code",
   "execution_count": 148,
   "id": "7ada27ca",
   "metadata": {},
   "outputs": [
    {
     "data": {
      "text/plain": [
       "'In The End,The Good Always Win'"
      ]
     },
     "execution_count": 148,
     "metadata": {},
     "output_type": "execute_result"
    }
   ],
   "source": [
    "\"In the end,the good always win\".title()  # kelimelerin baş harfini büyük yapar."
   ]
  },
  {
   "cell_type": "code",
   "execution_count": 149,
   "id": "301ad386",
   "metadata": {},
   "outputs": [
    {
     "data": {
      "text/plain": [
       "True"
      ]
     },
     "execution_count": 149,
     "metadata": {},
     "output_type": "execute_result"
    }
   ],
   "source": [
    "\"8\".isdigit() # rakamlardan oluşrur"
   ]
  },
  {
   "cell_type": "code",
   "execution_count": 150,
   "id": "1b77d580",
   "metadata": {},
   "outputs": [
    {
     "data": {
      "text/plain": [
       "True"
      ]
     },
     "execution_count": 150,
     "metadata": {},
     "output_type": "execute_result"
    }
   ],
   "source": [
    "\"½\".isnumeric()  # sayısal karakterler olmalı"
   ]
  },
  {
   "cell_type": "code",
   "execution_count": 151,
   "id": "2dc43290",
   "metadata": {},
   "outputs": [
    {
     "data": {
      "text/plain": [
       "False"
      ]
     },
     "execution_count": 151,
     "metadata": {},
     "output_type": "execute_result"
    }
   ],
   "source": [
    "\"½\".isdigit()  # rakam olmadığı için false verdi."
   ]
  },
  {
   "cell_type": "code",
   "execution_count": 152,
   "id": "f81da07e",
   "metadata": {},
   "outputs": [
    {
     "data": {
      "text/plain": [
       "'say a sentence'"
      ]
     },
     "execution_count": 152,
     "metadata": {},
     "output_type": "execute_result"
    }
   ],
   "source": [
    "sentence = \"write a sentence\"\n",
    "sentence.replace(\"write\", \"say\")    # write yerine say'i koydu"
   ]
  },
  {
   "cell_type": "code",
   "execution_count": 153,
   "id": "48bd774a",
   "metadata": {},
   "outputs": [
    {
     "data": {
      "text/plain": [
       "'vrite a sentence'"
      ]
     },
     "execution_count": 153,
     "metadata": {},
     "output_type": "execute_result"
    }
   ],
   "source": [
    "sentence.replace(\"w\",\"v\")"
   ]
  },
  {
   "cell_type": "code",
   "execution_count": 154,
   "id": "f76bdf0b",
   "metadata": {},
   "outputs": [
    {
     "data": {
      "text/plain": [
       "['Splits', 'each', 'string', 'with', 'the', 'given', 'pattern', '']"
      ]
     },
     "execution_count": 154,
     "metadata": {},
     "output_type": "execute_result"
    }
   ],
   "source": [
    "sentence_1 = \"Splits each string with the given pattern \"  # boşluga göre ayırır.\n",
    "sentence_1.split(\" \")"
   ]
  },
  {
   "cell_type": "code",
   "execution_count": 155,
   "id": "a5692037",
   "metadata": {},
   "outputs": [
    {
     "data": {
      "text/plain": [
       "['Splits', 'each', 'string', 'with', 'the', 'given', 'pattern']"
      ]
     },
     "execution_count": 155,
     "metadata": {},
     "output_type": "execute_result"
    }
   ],
   "source": [
    "sentence_1 = \"Splits each string with the given pattern\"\n",
    "sentence_1.split()"
   ]
  },
  {
   "cell_type": "code",
   "execution_count": 156,
   "id": "277b8e69",
   "metadata": {},
   "outputs": [
    {
     "data": {
      "text/plain": [
       "['Splits e', 'ch string with the given p', 'ttern']"
      ]
     },
     "execution_count": 156,
     "metadata": {},
     "output_type": "execute_result"
    }
   ],
   "source": [
    "sentence_1 = \"Splits each string with the given pattern\" # split içindeki ifadeyi görür görmez böler.\n",
    "sentence_1.split(\"a\")"
   ]
  },
  {
   "cell_type": "code",
   "execution_count": 157,
   "id": "6afc70f8",
   "metadata": {},
   "outputs": [],
   "source": [
    " # sentence_1.contains(r = \"iv\")  #  düzenle"
   ]
  },
  {
   "cell_type": "code",
   "execution_count": 158,
   "id": "538d03a7",
   "metadata": {},
   "outputs": [
    {
     "data": {
      "text/plain": [
       "'butterfly,    air, animal'"
      ]
     },
     "execution_count": 158,
     "metadata": {},
     "output_type": "execute_result"
    }
   ],
   "source": [
    "words = \"    butterfly,    air, animal    \"  # başta ve sondaki boşlukları siler.\n",
    "words.strip()\n"
   ]
  },
  {
   "cell_type": "code",
   "execution_count": 159,
   "id": "0d553814",
   "metadata": {},
   "outputs": [
    {
     "data": {
      "text/plain": [
       "'    butterfly,    air, animal'"
      ]
     },
     "execution_count": 159,
     "metadata": {},
     "output_type": "execute_result"
    }
   ],
   "source": [
    "words = \"    butterfly,    air, animal    \"  # sondaki(right) boşlukları siler.\n",
    "words.rstrip()"
   ]
  },
  {
   "cell_type": "code",
   "execution_count": 160,
   "id": "7f93b6cd",
   "metadata": {},
   "outputs": [
    {
     "data": {
      "text/plain": [
       "'butterfly,    air, animal    '"
      ]
     },
     "execution_count": 160,
     "metadata": {},
     "output_type": "execute_result"
    }
   ],
   "source": [
    "words = \"    butterfly,    air, animal    \"  # baştaki(left) boşlukları siler.\n",
    "words.lstrip()"
   ]
  },
  {
   "cell_type": "code",
   "execution_count": 161,
   "id": "8dfd38e9",
   "metadata": {},
   "outputs": [
    {
     "data": {
      "text/plain": [
       "3"
      ]
     },
     "execution_count": 161,
     "metadata": {},
     "output_type": "execute_result"
    }
   ],
   "source": [
    "\"In the end,the good always win\".find(\"t\")  # ilk hangi indexte gördüyse o indexi verir. dipnot:boşluklar da indextir"
   ]
  },
  {
   "cell_type": "code",
   "execution_count": 162,
   "id": "e8390da1",
   "metadata": {},
   "outputs": [
    {
     "data": {
      "text/plain": [
       "15"
      ]
     },
     "execution_count": 162,
     "metadata": {},
     "output_type": "execute_result"
    }
   ],
   "source": [
    "\"In the end,the good always win\".find(\"g\")  # case sensitive dir.her zaman pozitif döndürür."
   ]
  },
  {
   "cell_type": "code",
   "execution_count": 163,
   "id": "95ff4920",
   "metadata": {},
   "outputs": [
    {
     "data": {
      "text/plain": [
       "-1"
      ]
     },
     "execution_count": 163,
     "metadata": {},
     "output_type": "execute_result"
    }
   ],
   "source": [
    "\"In the end,the good always win\".find(\"O\")  # negatif döndüğünde bulamadığı anlamı çıkar."
   ]
  },
  {
   "cell_type": "code",
   "execution_count": 164,
   "id": "a4e814ee",
   "metadata": {},
   "outputs": [
    {
     "data": {
      "text/plain": [
       "29"
      ]
     },
     "execution_count": 164,
     "metadata": {},
     "output_type": "execute_result"
    }
   ],
   "source": [
    "\"In the end,the good always win\".rfind(\"n\") # sondan ilk gördüğünü yani en sağdakini alır."
   ]
  },
  {
   "cell_type": "code",
   "execution_count": 165,
   "id": "e6b8320e",
   "metadata": {},
   "outputs": [
    {
     "data": {
      "text/plain": [
       "5"
      ]
     },
     "execution_count": 165,
     "metadata": {},
     "output_type": "execute_result"
    }
   ],
   "source": [
    "\"In the end,the good always win\".find(\"e\" ,5,30) # indekten sonrası alınır"
   ]
  },
  {
   "cell_type": "code",
   "execution_count": 166,
   "id": "e462a394",
   "metadata": {},
   "outputs": [],
   "source": [
    "import re\n",
    "s1 = pd.Series(['Tiger', 'Deer', 'Zoo'])"
   ]
  },
  {
   "cell_type": "code",
   "execution_count": 167,
   "id": "188f0f04",
   "metadata": {},
   "outputs": [
    {
     "data": {
      "text/plain": [
       "0    []\n",
       "1    []\n",
       "2    []\n",
       "dtype: object"
      ]
     },
     "execution_count": 167,
     "metadata": {},
     "output_type": "execute_result"
    }
   ],
   "source": [
    "\n",
    "s1.str.findall(\"DEER\")"
   ]
  },
  {
   "cell_type": "code",
   "execution_count": 168,
   "id": "f73b81c8",
   "metadata": {},
   "outputs": [
    {
     "data": {
      "text/plain": [
       "0        []\n",
       "1    [Deer]\n",
       "2        []\n",
       "dtype: object"
      ]
     },
     "execution_count": 168,
     "metadata": {},
     "output_type": "execute_result"
    }
   ],
   "source": [
    "s1.str.findall('DEER', flags=re.IGNORECASE)   # key sensitive olmaz"
   ]
  },
  {
   "cell_type": "code",
   "execution_count": null,
   "id": "891a9955",
   "metadata": {},
   "outputs": [],
   "source": []
  },
  {
   "cell_type": "code",
   "execution_count": 169,
   "id": "b24a992e",
   "metadata": {},
   "outputs": [],
   "source": [
    "import numpy as np  # numerical paython = \n",
    "import pandas as pd \n",
    "import re  # regular expression= düzenli ifadeler *************************"
   ]
  },
  {
   "cell_type": "code",
   "execution_count": 170,
   "id": "d2a62c86",
   "metadata": {},
   "outputs": [],
   "source": [
    "orders = pd.read_table(\"http://bit.ly/chiporders\")"
   ]
  },
  {
   "cell_type": "code",
   "execution_count": 171,
   "id": "150fe51a-2067-44a6-abb3-c1fd44b333ef",
   "metadata": {},
   "outputs": [
    {
     "data": {
      "text/html": [
       "<div>\n",
       "<style scoped>\n",
       "    .dataframe tbody tr th:only-of-type {\n",
       "        vertical-align: middle;\n",
       "    }\n",
       "\n",
       "    .dataframe tbody tr th {\n",
       "        vertical-align: top;\n",
       "    }\n",
       "\n",
       "    .dataframe thead th {\n",
       "        text-align: right;\n",
       "    }\n",
       "</style>\n",
       "<table border=\"1\" class=\"dataframe\">\n",
       "  <thead>\n",
       "    <tr style=\"text-align: right;\">\n",
       "      <th></th>\n",
       "      <th>order_id</th>\n",
       "      <th>quantity</th>\n",
       "      <th>item_name</th>\n",
       "      <th>choice_description</th>\n",
       "      <th>item_price</th>\n",
       "    </tr>\n",
       "  </thead>\n",
       "  <tbody>\n",
       "    <tr>\n",
       "      <th>0</th>\n",
       "      <td>1</td>\n",
       "      <td>1</td>\n",
       "      <td>Chips and Fresh Tomato Salsa</td>\n",
       "      <td>NaN</td>\n",
       "      <td>$2.39</td>\n",
       "    </tr>\n",
       "    <tr>\n",
       "      <th>1</th>\n",
       "      <td>1</td>\n",
       "      <td>1</td>\n",
       "      <td>Izze</td>\n",
       "      <td>[Clementine]</td>\n",
       "      <td>$3.39</td>\n",
       "    </tr>\n",
       "    <tr>\n",
       "      <th>2</th>\n",
       "      <td>1</td>\n",
       "      <td>1</td>\n",
       "      <td>Nantucket Nectar</td>\n",
       "      <td>[Apple]</td>\n",
       "      <td>$3.39</td>\n",
       "    </tr>\n",
       "    <tr>\n",
       "      <th>3</th>\n",
       "      <td>1</td>\n",
       "      <td>1</td>\n",
       "      <td>Chips and Tomatillo-Green Chili Salsa</td>\n",
       "      <td>NaN</td>\n",
       "      <td>$2.39</td>\n",
       "    </tr>\n",
       "    <tr>\n",
       "      <th>4</th>\n",
       "      <td>2</td>\n",
       "      <td>2</td>\n",
       "      <td>Chicken Bowl</td>\n",
       "      <td>[Tomatillo-Red Chili Salsa (Hot), [Black Beans...</td>\n",
       "      <td>$16.98</td>\n",
       "    </tr>\n",
       "  </tbody>\n",
       "</table>\n",
       "</div>"
      ],
      "text/plain": [
       "   order_id  quantity                              item_name  \\\n",
       "0         1         1           Chips and Fresh Tomato Salsa   \n",
       "1         1         1                                   Izze   \n",
       "2         1         1                       Nantucket Nectar   \n",
       "3         1         1  Chips and Tomatillo-Green Chili Salsa   \n",
       "4         2         2                           Chicken Bowl   \n",
       "\n",
       "                                  choice_description item_price  \n",
       "0                                                NaN     $2.39   \n",
       "1                                       [Clementine]     $3.39   \n",
       "2                                            [Apple]     $3.39   \n",
       "3                                                NaN     $2.39   \n",
       "4  [Tomatillo-Red Chili Salsa (Hot), [Black Beans...    $16.98   "
      ]
     },
     "execution_count": 171,
     "metadata": {},
     "output_type": "execute_result"
    }
   ],
   "source": [
    "orders.head()"
   ]
  },
  {
   "cell_type": "code",
   "execution_count": 172,
   "id": "546ece9d",
   "metadata": {},
   "outputs": [
    {
     "data": {
      "text/plain": [
       "0                CHIPS AND FRESH TOMATO SALSA\n",
       "1                                        IZZE\n",
       "2                            NANTUCKET NECTAR\n",
       "3       CHIPS AND TOMATILLO-GREEN CHILI SALSA\n",
       "4                                CHICKEN BOWL\n",
       "                        ...                  \n",
       "4617                            STEAK BURRITO\n",
       "4618                            STEAK BURRITO\n",
       "4619                       CHICKEN SALAD BOWL\n",
       "4620                       CHICKEN SALAD BOWL\n",
       "4621                       CHICKEN SALAD BOWL\n",
       "Name: item_name, Length: 4622, dtype: object"
      ]
     },
     "execution_count": 172,
     "metadata": {},
     "output_type": "execute_result"
    }
   ],
   "source": [
    "orders.item_name.str.upper()"
   ]
  },
  {
   "cell_type": "code",
   "execution_count": 173,
   "id": "35506fa7",
   "metadata": {},
   "outputs": [
    {
     "data": {
      "text/plain": [
       "0                chips and fresh tomato salsa\n",
       "1                                        izze\n",
       "2                            nantucket nectar\n",
       "3       chips and tomatillo-green chili salsa\n",
       "4                                chicken bowl\n",
       "                        ...                  \n",
       "4617                            steak burrito\n",
       "4618                            steak burrito\n",
       "4619                       chicken salad bowl\n",
       "4620                       chicken salad bowl\n",
       "4621                       chicken salad bowl\n",
       "Name: item_name, Length: 4622, dtype: object"
      ]
     },
     "execution_count": 173,
     "metadata": {},
     "output_type": "execute_result"
    }
   ],
   "source": [
    "orders.item_name.str.lower()"
   ]
  },
  {
   "cell_type": "code",
   "execution_count": 174,
   "id": "c0b1f089",
   "metadata": {},
   "outputs": [
    {
     "data": {
      "text/plain": [
       "0       False\n",
       "1       False\n",
       "2       False\n",
       "3       False\n",
       "4       False\n",
       "        ...  \n",
       "4617    False\n",
       "4618    False\n",
       "4619    False\n",
       "4620    False\n",
       "4621    False\n",
       "Name: item_name, Length: 4622, dtype: bool"
      ]
     },
     "execution_count": 174,
     "metadata": {},
     "output_type": "execute_result"
    }
   ],
   "source": [
    "orders.item_name.str.isupper()"
   ]
  },
  {
   "cell_type": "code",
   "execution_count": 175,
   "id": "4fc5ce43",
   "metadata": {},
   "outputs": [
    {
     "data": {
      "text/plain": [
       "0       False\n",
       "1       False\n",
       "2       False\n",
       "3       False\n",
       "4       False\n",
       "        ...  \n",
       "4617    False\n",
       "4618    False\n",
       "4619    False\n",
       "4620    False\n",
       "4621    False\n",
       "Name: item_name, Length: 4622, dtype: bool"
      ]
     },
     "execution_count": 175,
     "metadata": {},
     "output_type": "execute_result"
    }
   ],
   "source": [
    "orders.item_name.str.islower()"
   ]
  },
  {
   "cell_type": "code",
   "execution_count": 176,
   "id": "b68c1c74",
   "metadata": {},
   "outputs": [
    {
     "data": {
      "text/plain": [
       "0       False\n",
       "1       False\n",
       "2       False\n",
       "3       False\n",
       "4        True\n",
       "        ...  \n",
       "4617    False\n",
       "4618    False\n",
       "4619     True\n",
       "4620     True\n",
       "4621     True\n",
       "Name: item_name, Length: 4622, dtype: bool"
      ]
     },
     "execution_count": 176,
     "metadata": {},
     "output_type": "execute_result"
    }
   ],
   "source": [
    "orders.item_name.str.contains(\"Chicken\")"
   ]
  },
  {
   "cell_type": "code",
   "execution_count": 177,
   "id": "dde1170b",
   "metadata": {},
   "outputs": [
    {
     "name": "stderr",
     "output_type": "stream",
     "text": [
      "<ipython-input-177-7406edc70f30>:1: FutureWarning: The default value of regex will change from True to False in a future version. In addition, single character regular expressions will*not* be treated as literal strings when regex=True.\n",
      "  orders.choice_description.str.replace(\"[\",\"\").str.replace(\"]\",\"\")\n"
     ]
    },
    {
     "data": {
      "text/plain": [
       "0                                                     NaN\n",
       "1                                              Clementine\n",
       "2                                                   Apple\n",
       "3                                                     NaN\n",
       "4       Tomatillo-Red Chili Salsa (Hot), Black Beans, ...\n",
       "                              ...                        \n",
       "4617    Fresh Tomato Salsa, Rice, Black Beans, Sour Cr...\n",
       "4618    Fresh Tomato Salsa, Rice, Sour Cream, Cheese, ...\n",
       "4619    Fresh Tomato Salsa, Fajita Vegetables, Pinto B...\n",
       "4620       Fresh Tomato Salsa, Fajita Vegetables, Lettuce\n",
       "4621    Fresh Tomato Salsa, Fajita Vegetables, Pinto B...\n",
       "Name: choice_description, Length: 4622, dtype: object"
      ]
     },
     "execution_count": 177,
     "metadata": {},
     "output_type": "execute_result"
    }
   ],
   "source": [
    "orders.choice_description.str.replace(\"[\",\"\").str.replace(\"]\",\"\")"
   ]
  },
  {
   "cell_type": "code",
   "execution_count": 178,
   "id": "12c221ba",
   "metadata": {},
   "outputs": [
    {
     "name": "stderr",
     "output_type": "stream",
     "text": [
      "<ipython-input-178-e78b9fdb2611>:1: FutureWarning: The default value of regex will change from True to False in a future version.\n",
      "  orders.choice_description.str.replace(\"[\\[\\]]\",\"\")\n"
     ]
    },
    {
     "data": {
      "text/plain": [
       "0                                                     NaN\n",
       "1                                              Clementine\n",
       "2                                                   Apple\n",
       "3                                                     NaN\n",
       "4       Tomatillo-Red Chili Salsa (Hot), Black Beans, ...\n",
       "                              ...                        \n",
       "4617    Fresh Tomato Salsa, Rice, Black Beans, Sour Cr...\n",
       "4618    Fresh Tomato Salsa, Rice, Sour Cream, Cheese, ...\n",
       "4619    Fresh Tomato Salsa, Fajita Vegetables, Pinto B...\n",
       "4620       Fresh Tomato Salsa, Fajita Vegetables, Lettuce\n",
       "4621    Fresh Tomato Salsa, Fajita Vegetables, Pinto B...\n",
       "Name: choice_description, Length: 4622, dtype: object"
      ]
     },
     "execution_count": 178,
     "metadata": {},
     "output_type": "execute_result"
    }
   ],
   "source": [
    "orders.choice_description.str.replace(\"[\\[\\]]\",\"\")"
   ]
  },
  {
   "cell_type": "code",
   "execution_count": 179,
   "id": "c4fa035d",
   "metadata": {},
   "outputs": [
    {
     "data": {
      "text/plain": [
       "City 1    New_York\n",
       "City 2      Lisbon\n",
       "City 3       Tokyo\n",
       "City 4       Paris\n",
       "City 5      Munich\n",
       "dtype: object"
      ]
     },
     "execution_count": 179,
     "metadata": {},
     "output_type": "execute_result"
    }
   ],
   "source": [
    "sr = pd.Series(['New_York', 'Lisbon', 'Tokyo', 'Paris', 'Munich'])\n",
    "idx = ['City 1', 'City 2', 'City 3', 'City 4', 'City 5']\n",
    "sr.index = idx\n",
    "sr"
   ]
  },
  {
   "cell_type": "code",
   "execution_count": 180,
   "id": "89383e6e",
   "metadata": {
    "scrolled": true
   },
   "outputs": [
    {
     "data": {
      "text/plain": [
       "City 1    False\n",
       "City 2     True\n",
       "City 3    False\n",
       "City 4     True\n",
       "City 5    False\n",
       "dtype: bool"
      ]
     },
     "execution_count": 180,
     "metadata": {},
     "output_type": "execute_result"
    }
   ],
   "source": [
    "result = sr.str.contains(pat = 'is')  # icinde \"is\" olanlari sorgula\n",
    "result  "
   ]
  },
  {
   "cell_type": "code",
   "execution_count": 181,
   "id": "9deeb59f",
   "metadata": {},
   "outputs": [
    {
     "data": {
      "text/plain": [
       "City 1    False\n",
       "City 2     True\n",
       "City 3    False\n",
       "City 4     True\n",
       "City 5    False\n",
       "dtype: bool"
      ]
     },
     "execution_count": 181,
     "metadata": {},
     "output_type": "execute_result"
    }
   ],
   "source": [
    "result = sr.str.contains(pat = 'IS', flags = re.IGNORECASE) # büyük küçük harflere duyarşlılıgı kaldırır\n",
    "result"
   ]
  },
  {
   "cell_type": "markdown",
   "id": "45cc877d",
   "metadata": {},
   "source": [
    "to_datetime()\n",
    "strftime\n",
    "strptime\n",
    "timedelta"
   ]
  },
  {
   "cell_type": "code",
   "execution_count": 1,
   "id": "50a13e78",
   "metadata": {},
   "outputs": [
    {
     "data": {
      "text/plain": [
       "datetime.datetime(2022, 2, 11, 23, 0, 46, 731190)"
      ]
     },
     "execution_count": 1,
     "metadata": {},
     "output_type": "execute_result"
    }
   ],
   "source": [
    "from datetime import datetime\n",
    "current_date = datetime.now()\n",
    "current_date"
   ]
  },
  {
   "cell_type": "code",
   "execution_count": 4,
   "id": "dcf0d194",
   "metadata": {},
   "outputs": [
    {
     "name": "stdout",
     "output_type": "stream",
     "text": [
      "2022-02-11 23:09:04.370949\n",
      "2022-02-11\n",
      "11\n",
      "2\n",
      "2022\n",
      "2022\n",
      "22\n",
      "02/11/22\n",
      "11\n",
      "February\n",
      "Feb\n",
      "06\n",
      "5\n",
      "02\n",
      "09\n",
      "23\n",
      "Feb\n"
     ]
    }
   ],
   "source": [
    "from datetime import datetime\n",
    "current_date = datetime.now()\n",
    "print(current_date)\n",
    "print(current_date.date())\n",
    "print(current_date.day)\n",
    "print(current_date.month)\n",
    "print(current_date.year)\n",
    "print(current_date.strftime(\"%Y\"))  # Yili verir   ===> 2022\n",
    "print(current_date.strftime(\"%y\"))  # Yilin son iki rakamini verir  ===> 22\n",
    "print(current_date.strftime(\"%D\"))  # Tarih kisa yazilis  ===> 01/30/22\n",
    "print(current_date.strftime(\"%d\"))  # yılın kacıncı gunu  ===> 30\n",
    "print(current_date.strftime(\"%B\"))  # yılın hangi ayi  ===> January\n",
    "print(current_date.strftime(\"%b\"))  # yılın hangi ayi kisa yazilis  ===> Jan\n",
    "print(current_date.strftime(\"%W\"))  # yılın kacıncı haftsası   ===> 04\n",
    "print(current_date.strftime(\"%w\"))  # haftanin kacinci gunu   ===> 7\n",
    "print(current_date.strftime(\"%m\"))  # ayi rakamolarak gosterir   ===> 02\n",
    "print(current_date.strftime(\"%M\"))  # minute\n",
    "print(current_date.strftime(\"%H\"))  # hour\n",
    "print(current_date.strftime(\"%h\")) \n",
    "# Strftime(%w) kullandıysanız ilk günü Sunday olarak alıyor.\n",
    "# Eğer weekday kullanırsanız, ilk günü Monday alıyor.\n",
    "# Df.timestamp.dt.weekday\n",
    "\n",
    "# f = lambda x: x.strftime(\"%Y-%m\")\n",
    "\n",
    "# df[\"year_month\"] = f(df.index)\n",
    "# df[\"year\"] = df.index.year\n",
    "# df[\"month\"] = df.index.month\n",
    "# df[\"day_of_month\"] = df.index.day\n",
    "# df[\"day_of_week\"] = df.index.dayofweek\n",
    "# df[\"day_of_month\"] = df.index.day\n",
    "# df[\"hour\"] = df.index.hour"
   ]
  },
  {
   "cell_type": "code",
   "execution_count": 187,
   "id": "5d560348",
   "metadata": {},
   "outputs": [],
   "source": [
    "from datetime import datetime\n",
    "from datetime import date\n",
    "\n",
    "from datetime import timedelta\n",
    "import datetime"
   ]
  },
  {
   "cell_type": "code",
   "execution_count": 188,
   "id": "48ed8ff8",
   "metadata": {},
   "outputs": [
    {
     "ename": "AttributeError",
     "evalue": "module 'datetime' has no attribute 'strptime'",
     "output_type": "error",
     "traceback": [
      "\u001b[1;31m---------------------------------------------------------------------------\u001b[0m",
      "\u001b[1;31mAttributeError\u001b[0m                            Traceback (most recent call last)",
      "\u001b[1;32m<ipython-input-188-d44e52097b12>\u001b[0m in \u001b[0;36m<module>\u001b[1;34m\u001b[0m\n\u001b[0;32m      1\u001b[0m \u001b[0mstr1\u001b[0m \u001b[1;33m=\u001b[0m \u001b[1;34m\"2022-01-30\"\u001b[0m\u001b[1;33m\u001b[0m\u001b[1;33m\u001b[0m\u001b[0m\n\u001b[1;32m----> 2\u001b[1;33m \u001b[0mdate1\u001b[0m \u001b[1;33m=\u001b[0m \u001b[0mdatetime\u001b[0m\u001b[1;33m.\u001b[0m\u001b[0mstrptime\u001b[0m\u001b[1;33m(\u001b[0m\u001b[0mstr1\u001b[0m\u001b[1;33m,\u001b[0m \u001b[1;34m\"%Y-%m-%d\"\u001b[0m\u001b[1;33m)\u001b[0m\u001b[1;33m\u001b[0m\u001b[1;33m\u001b[0m\u001b[0m\n\u001b[0m\u001b[0;32m      3\u001b[0m \u001b[0mprint\u001b[0m\u001b[1;33m(\u001b[0m\u001b[0mdate1\u001b[0m\u001b[1;33m)\u001b[0m\u001b[1;33m\u001b[0m\u001b[1;33m\u001b[0m\u001b[0m\n",
      "\u001b[1;31mAttributeError\u001b[0m: module 'datetime' has no attribute 'strptime'"
     ]
    }
   ],
   "source": [
    "str1 = \"2022-01-30\"\n",
    "date1 = datetime.strptime(str1, \"%Y-%m-%d\")\n",
    "print(date1)"
   ]
  },
  {
   "cell_type": "code",
   "execution_count": 189,
   "id": "8709e5ae",
   "metadata": {},
   "outputs": [
    {
     "name": "stdout",
     "output_type": "stream",
     "text": [
      "Today date:  2022-01-30 14:59:11.727631\n",
      "Date after 10 days :  2022-02-09 14:59:11.727631\n"
     ]
    }
   ],
   "source": [
    "current_date = datetime.datetime.now()\n",
    "date_after_10_days = current_date + timedelta(days = 10)\n",
    "print(\"Today date: \", current_date)\n",
    "print(\"Date after 10 days : \", date_after_10_days)"
   ]
  },
  {
   "cell_type": "code",
   "execution_count": 190,
   "id": "bf027802",
   "metadata": {},
   "outputs": [
    {
     "name": "stdout",
     "output_type": "stream",
     "text": [
      "Today date:  2022-01-30\n",
      "Date after 10 days :  2022-02-09\n"
     ]
    }
   ],
   "source": [
    "print(\"Today date: \", current_date.date())\n",
    "print(\"Date after 10 days : \", date_after_10_days.date())"
   ]
  },
  {
   "cell_type": "markdown",
   "id": "b34b591c",
   "metadata": {},
   "source": [
    "# Get_Dummies Method"
   ]
  },
  {
   "cell_type": "code",
   "execution_count": 191,
   "id": "48428895",
   "metadata": {},
   "outputs": [
    {
     "data": {
      "text/html": [
       "<div>\n",
       "<style scoped>\n",
       "    .dataframe tbody tr th:only-of-type {\n",
       "        vertical-align: middle;\n",
       "    }\n",
       "\n",
       "    .dataframe tbody tr th {\n",
       "        vertical-align: top;\n",
       "    }\n",
       "\n",
       "    .dataframe thead th {\n",
       "        text-align: right;\n",
       "    }\n",
       "</style>\n",
       "<table border=\"1\" class=\"dataframe\">\n",
       "  <thead>\n",
       "    <tr style=\"text-align: right;\">\n",
       "      <th></th>\n",
       "      <th>market_name</th>\n",
       "      <th>amount</th>\n",
       "    </tr>\n",
       "  </thead>\n",
       "  <tbody>\n",
       "    <tr>\n",
       "      <th>0</th>\n",
       "      <td>A101</td>\n",
       "      <td>184</td>\n",
       "    </tr>\n",
       "    <tr>\n",
       "      <th>1</th>\n",
       "      <td>ŞOK</td>\n",
       "      <td>188</td>\n",
       "    </tr>\n",
       "    <tr>\n",
       "      <th>2</th>\n",
       "      <td>Migros</td>\n",
       "      <td>195</td>\n",
       "    </tr>\n",
       "    <tr>\n",
       "      <th>3</th>\n",
       "      <td>BIM</td>\n",
       "      <td>186</td>\n",
       "    </tr>\n",
       "  </tbody>\n",
       "</table>\n",
       "</div>"
      ],
      "text/plain": [
       "  market_name  amount\n",
       "0        A101     184\n",
       "1         ŞOK     188\n",
       "2      Migros     195\n",
       "3         BIM     186"
      ]
     },
     "execution_count": 191,
     "metadata": {},
     "output_type": "execute_result"
    }
   ],
   "source": [
    "df2 = pd.DataFrame([(\"A101\", 184),\n",
    "                    (\"ŞOK\", 188),\n",
    "                    (\"Migros\", 195),\n",
    "                    (\"BIM\", 186)],\n",
    "            columns = (\"market_name\",\"amount\")\n",
    "                  )\n",
    "df2"
   ]
  },
  {
   "cell_type": "code",
   "execution_count": 192,
   "id": "44e64224",
   "metadata": {},
   "outputs": [
    {
     "data": {
      "text/html": [
       "<div>\n",
       "<style scoped>\n",
       "    .dataframe tbody tr th:only-of-type {\n",
       "        vertical-align: middle;\n",
       "    }\n",
       "\n",
       "    .dataframe tbody tr th {\n",
       "        vertical-align: top;\n",
       "    }\n",
       "\n",
       "    .dataframe thead th {\n",
       "        text-align: right;\n",
       "    }\n",
       "</style>\n",
       "<table border=\"1\" class=\"dataframe\">\n",
       "  <thead>\n",
       "    <tr style=\"text-align: right;\">\n",
       "      <th></th>\n",
       "      <th>amount</th>\n",
       "      <th>market_name_A101</th>\n",
       "      <th>market_name_BIM</th>\n",
       "      <th>market_name_Migros</th>\n",
       "      <th>market_name_ŞOK</th>\n",
       "    </tr>\n",
       "  </thead>\n",
       "  <tbody>\n",
       "    <tr>\n",
       "      <th>0</th>\n",
       "      <td>184</td>\n",
       "      <td>1</td>\n",
       "      <td>0</td>\n",
       "      <td>0</td>\n",
       "      <td>0</td>\n",
       "    </tr>\n",
       "    <tr>\n",
       "      <th>1</th>\n",
       "      <td>188</td>\n",
       "      <td>0</td>\n",
       "      <td>0</td>\n",
       "      <td>0</td>\n",
       "      <td>1</td>\n",
       "    </tr>\n",
       "    <tr>\n",
       "      <th>2</th>\n",
       "      <td>195</td>\n",
       "      <td>0</td>\n",
       "      <td>0</td>\n",
       "      <td>1</td>\n",
       "      <td>0</td>\n",
       "    </tr>\n",
       "    <tr>\n",
       "      <th>3</th>\n",
       "      <td>186</td>\n",
       "      <td>0</td>\n",
       "      <td>1</td>\n",
       "      <td>0</td>\n",
       "      <td>0</td>\n",
       "    </tr>\n",
       "  </tbody>\n",
       "</table>\n",
       "</div>"
      ],
      "text/plain": [
       "   amount  market_name_A101  market_name_BIM  market_name_Migros  \\\n",
       "0     184                 1                0                   0   \n",
       "1     188                 0                0                   0   \n",
       "2     195                 0                0                   1   \n",
       "3     186                 0                1                   0   \n",
       "\n",
       "   market_name_ŞOK  \n",
       "0                0  \n",
       "1                1  \n",
       "2                0  \n",
       "3                0  "
      ]
     },
     "execution_count": 192,
     "metadata": {},
     "output_type": "execute_result"
    }
   ],
   "source": [
    "pd.get_dummies(df2, columns = [\"market_name\"])"
   ]
  },
  {
   "cell_type": "code",
   "execution_count": 193,
   "id": "f22201bc",
   "metadata": {},
   "outputs": [
    {
     "data": {
      "text/html": [
       "<div>\n",
       "<style scoped>\n",
       "    .dataframe tbody tr th:only-of-type {\n",
       "        vertical-align: middle;\n",
       "    }\n",
       "\n",
       "    .dataframe tbody tr th {\n",
       "        vertical-align: top;\n",
       "    }\n",
       "\n",
       "    .dataframe thead th {\n",
       "        text-align: right;\n",
       "    }\n",
       "</style>\n",
       "<table border=\"1\" class=\"dataframe\">\n",
       "  <thead>\n",
       "    <tr style=\"text-align: right;\">\n",
       "      <th></th>\n",
       "      <th>amount</th>\n",
       "      <th>Bakkal_A101</th>\n",
       "      <th>Bakkal_BIM</th>\n",
       "      <th>Bakkal_Migros</th>\n",
       "      <th>Bakkal_ŞOK</th>\n",
       "    </tr>\n",
       "  </thead>\n",
       "  <tbody>\n",
       "    <tr>\n",
       "      <th>0</th>\n",
       "      <td>184</td>\n",
       "      <td>1</td>\n",
       "      <td>0</td>\n",
       "      <td>0</td>\n",
       "      <td>0</td>\n",
       "    </tr>\n",
       "    <tr>\n",
       "      <th>1</th>\n",
       "      <td>188</td>\n",
       "      <td>0</td>\n",
       "      <td>0</td>\n",
       "      <td>0</td>\n",
       "      <td>1</td>\n",
       "    </tr>\n",
       "    <tr>\n",
       "      <th>2</th>\n",
       "      <td>195</td>\n",
       "      <td>0</td>\n",
       "      <td>0</td>\n",
       "      <td>1</td>\n",
       "      <td>0</td>\n",
       "    </tr>\n",
       "    <tr>\n",
       "      <th>3</th>\n",
       "      <td>186</td>\n",
       "      <td>0</td>\n",
       "      <td>1</td>\n",
       "      <td>0</td>\n",
       "      <td>0</td>\n",
       "    </tr>\n",
       "  </tbody>\n",
       "</table>\n",
       "</div>"
      ],
      "text/plain": [
       "   amount  Bakkal_A101  Bakkal_BIM  Bakkal_Migros  Bakkal_ŞOK\n",
       "0     184            1           0              0           0\n",
       "1     188            0           0              0           1\n",
       "2     195            0           0              1           0\n",
       "3     186            0           1              0           0"
      ]
     },
     "execution_count": 193,
     "metadata": {},
     "output_type": "execute_result"
    }
   ],
   "source": [
    "pd.get_dummies(df2, columns = [\"market_name\"], prefix = \"Bakkal\")"
   ]
  },
  {
   "cell_type": "code",
   "execution_count": 194,
   "id": "54de3ff0",
   "metadata": {},
   "outputs": [
    {
     "data": {
      "text/html": [
       "<div>\n",
       "<style scoped>\n",
       "    .dataframe tbody tr th:only-of-type {\n",
       "        vertical-align: middle;\n",
       "    }\n",
       "\n",
       "    .dataframe tbody tr th {\n",
       "        vertical-align: top;\n",
       "    }\n",
       "\n",
       "    .dataframe thead th {\n",
       "        text-align: right;\n",
       "    }\n",
       "</style>\n",
       "<table border=\"1\" class=\"dataframe\">\n",
       "  <thead>\n",
       "    <tr style=\"text-align: right;\">\n",
       "      <th></th>\n",
       "      <th>market_name</th>\n",
       "      <th>amount</th>\n",
       "    </tr>\n",
       "  </thead>\n",
       "  <tbody>\n",
       "    <tr>\n",
       "      <th>0</th>\n",
       "      <td>A101</td>\n",
       "      <td>184</td>\n",
       "    </tr>\n",
       "    <tr>\n",
       "      <th>1</th>\n",
       "      <td>ŞOK</td>\n",
       "      <td>188</td>\n",
       "    </tr>\n",
       "    <tr>\n",
       "      <th>2</th>\n",
       "      <td>Migros</td>\n",
       "      <td>195</td>\n",
       "    </tr>\n",
       "    <tr>\n",
       "      <th>3</th>\n",
       "      <td>Migros</td>\n",
       "      <td>186</td>\n",
       "    </tr>\n",
       "  </tbody>\n",
       "</table>\n",
       "</div>"
      ],
      "text/plain": [
       "  market_name  amount\n",
       "0        A101     184\n",
       "1         ŞOK     188\n",
       "2      Migros     195\n",
       "3      Migros     186"
      ]
     },
     "execution_count": 194,
     "metadata": {},
     "output_type": "execute_result"
    }
   ],
   "source": [
    "df2 = pd.DataFrame([(\"A101\", 184),\n",
    "                    (\"ŞOK\", 188),\n",
    "                    (\"Migros\", 195),\n",
    "                    (\"Migros\", 186)],\n",
    "            columns = (\"market_name\",\"amount\")\n",
    "                  )\n",
    "df2"
   ]
  },
  {
   "cell_type": "code",
   "execution_count": 195,
   "id": "4f766907-a3e4-4f8e-98aa-7a7944b9ecde",
   "metadata": {},
   "outputs": [
    {
     "data": {
      "text/html": [
       "<div>\n",
       "<style scoped>\n",
       "    .dataframe tbody tr th:only-of-type {\n",
       "        vertical-align: middle;\n",
       "    }\n",
       "\n",
       "    .dataframe tbody tr th {\n",
       "        vertical-align: top;\n",
       "    }\n",
       "\n",
       "    .dataframe thead th {\n",
       "        text-align: right;\n",
       "    }\n",
       "</style>\n",
       "<table border=\"1\" class=\"dataframe\">\n",
       "  <thead>\n",
       "    <tr style=\"text-align: right;\">\n",
       "      <th></th>\n",
       "      <th>market_name</th>\n",
       "      <th>amount</th>\n",
       "    </tr>\n",
       "  </thead>\n",
       "  <tbody>\n",
       "    <tr>\n",
       "      <th>0</th>\n",
       "      <td>A101</td>\n",
       "      <td>184</td>\n",
       "    </tr>\n",
       "    <tr>\n",
       "      <th>1</th>\n",
       "      <td>ŞOK</td>\n",
       "      <td>188</td>\n",
       "    </tr>\n",
       "    <tr>\n",
       "      <th>2</th>\n",
       "      <td>Migros</td>\n",
       "      <td>195</td>\n",
       "    </tr>\n",
       "    <tr>\n",
       "      <th>3</th>\n",
       "      <td>Migros</td>\n",
       "      <td>195</td>\n",
       "    </tr>\n",
       "  </tbody>\n",
       "</table>\n",
       "</div>"
      ],
      "text/plain": [
       "  market_name  amount\n",
       "0        A101     184\n",
       "1         ŞOK     188\n",
       "2      Migros     195\n",
       "3      Migros     195"
      ]
     },
     "execution_count": 195,
     "metadata": {},
     "output_type": "execute_result"
    }
   ],
   "source": [
    "df2 = pd.DataFrame([(\"A101\", 184),\n",
    "                    (\"ŞOK\", 188),\n",
    "                    (\"Migros\", 195),\n",
    "                    (\"Migros\", 195)],\n",
    "            columns = (\"market_name\",\"amount\")\n",
    "                  )\n",
    "df2"
   ]
  },
  {
   "cell_type": "code",
   "execution_count": 196,
   "id": "02fdba2e",
   "metadata": {
    "scrolled": true
   },
   "outputs": [
    {
     "data": {
      "text/html": [
       "<div>\n",
       "<style scoped>\n",
       "    .dataframe tbody tr th:only-of-type {\n",
       "        vertical-align: middle;\n",
       "    }\n",
       "\n",
       "    .dataframe tbody tr th {\n",
       "        vertical-align: top;\n",
       "    }\n",
       "\n",
       "    .dataframe thead th {\n",
       "        text-align: right;\n",
       "    }\n",
       "</style>\n",
       "<table border=\"1\" class=\"dataframe\">\n",
       "  <thead>\n",
       "    <tr style=\"text-align: right;\">\n",
       "      <th></th>\n",
       "      <th>amount</th>\n",
       "      <th>Super_market-*-A101</th>\n",
       "      <th>Super_market-*-Migros</th>\n",
       "      <th>Super_market-*-ŞOK</th>\n",
       "    </tr>\n",
       "  </thead>\n",
       "  <tbody>\n",
       "    <tr>\n",
       "      <th>0</th>\n",
       "      <td>184</td>\n",
       "      <td>1</td>\n",
       "      <td>0</td>\n",
       "      <td>0</td>\n",
       "    </tr>\n",
       "    <tr>\n",
       "      <th>1</th>\n",
       "      <td>188</td>\n",
       "      <td>0</td>\n",
       "      <td>0</td>\n",
       "      <td>1</td>\n",
       "    </tr>\n",
       "    <tr>\n",
       "      <th>2</th>\n",
       "      <td>195</td>\n",
       "      <td>0</td>\n",
       "      <td>1</td>\n",
       "      <td>0</td>\n",
       "    </tr>\n",
       "    <tr>\n",
       "      <th>3</th>\n",
       "      <td>195</td>\n",
       "      <td>0</td>\n",
       "      <td>1</td>\n",
       "      <td>0</td>\n",
       "    </tr>\n",
       "  </tbody>\n",
       "</table>\n",
       "</div>"
      ],
      "text/plain": [
       "   amount  Super_market-*-A101  Super_market-*-Migros  Super_market-*-ŞOK\n",
       "0     184                    1                      0                   0\n",
       "1     188                    0                      0                   1\n",
       "2     195                    0                      1                   0\n",
       "3     195                    0                      1                   0"
      ]
     },
     "execution_count": 196,
     "metadata": {},
     "output_type": "execute_result"
    }
   ],
   "source": [
    "pd.get_dummies(df2, columns = [\"market_name\"], prefix = \"Super_market\", prefix_sep = \"-*-\")"
   ]
  },
  {
   "cell_type": "code",
   "execution_count": null,
   "id": "222ccf8f",
   "metadata": {},
   "outputs": [],
   "source": []
  },
  {
   "cell_type": "code",
   "execution_count": null,
   "id": "de3bb30d",
   "metadata": {
    "scrolled": true
   },
   "outputs": [],
   "source": [
    "orders.head()"
   ]
  }
 ],
 "metadata": {
  "kernelspec": {
   "display_name": "Python 3 (ipykernel)",
   "language": "python",
   "name": "python3"
  },
  "language_info": {
   "codemirror_mode": {
    "name": "ipython",
    "version": 3
   },
   "file_extension": ".py",
   "mimetype": "text/x-python",
   "name": "python",
   "nbconvert_exporter": "python",
   "pygments_lexer": "ipython3",
   "version": "3.9.7"
  }
 },
 "nbformat": 4,
 "nbformat_minor": 5
}
