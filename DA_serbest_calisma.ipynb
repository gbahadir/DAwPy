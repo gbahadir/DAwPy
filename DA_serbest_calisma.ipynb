{
 "cells": [
  {
   "cell_type": "markdown",
   "id": "ea4f32a6-3d00-48d2-b611-cf469942bab5",
   "metadata": {},
   "source": [
    "## You have given a Python list. Write a program to find value 20 in the list, and if it is present, replace it with 200. Only update the first occurrence of an item. \n",
    " list1 = [5, 10, 15, 20, 25, 50, 20]  output: [5, 10, 15, 200, 25, 50, 20]\n"
   ]
  },
  {
   "cell_type": "code",
   "execution_count": 7,
   "id": "aae6caec-6deb-48bc-86cb-f2cace1c5056",
   "metadata": {},
   "outputs": [
    {
     "data": {
      "text/plain": [
       "[5, 10, 15, 200, 25, 50, 20]"
      ]
     },
     "execution_count": 7,
     "metadata": {},
     "output_type": "execute_result"
    }
   ],
   "source": [
    "list1 = [5, 10, 15, 20, 25, 50, 20] \n",
    "for i in range(len(list1)):\n",
    "    if list1[i] == 20 :\n",
    "        list1[i] = 200 \n",
    "        break\n",
    "list1"
   ]
  },
  {
   "cell_type": "code",
   "execution_count": 6,
   "id": "a863f7c4-b665-438b-ad13-d831c76a6dba",
   "metadata": {},
   "outputs": [
    {
     "data": {
      "text/plain": [
       "[5, 10, 15, 20, 25, 50, 20]"
      ]
     },
     "execution_count": 6,
     "metadata": {},
     "output_type": "execute_result"
    }
   ],
   "source": [
    "list1 = [5, 10, 15, 20, 25, 50, 20]   \n",
    "for i in list1:\n",
    "    if i == 20 :\n",
    "        i = 200 \n",
    "        break\n",
    "list1               # indexli yapmayinca butun 20 leri cevirir"
   ]
  },
  {
   "cell_type": "code",
   "execution_count": 8,
   "id": "66060874-9543-4e9c-a86b-7166ab7bfe81",
   "metadata": {},
   "outputs": [
    {
     "data": {
      "text/plain": [
       "[5, 10, 15, 200, 25, 50, 20]"
      ]
     },
     "execution_count": 8,
     "metadata": {},
     "output_type": "execute_result"
    }
   ],
   "source": [
    "list1 = [5, 10, 15, 20, 25, 50, 20]\n",
    "index = list1.index(20)\n",
    "list1 = list1[:index] + [200] + list1[index+1:]\n",
    "list1"
   ]
  },
  {
   "cell_type": "code",
   "execution_count": 10,
   "id": "afd2859a-275e-4e79-ad79-406e89fe9c19",
   "metadata": {},
   "outputs": [
    {
     "data": {
      "text/plain": [
       "[5, 10, 15, 200, 25, 50, 20]"
      ]
     },
     "execution_count": 10,
     "metadata": {},
     "output_type": "execute_result"
    }
   ],
   "source": [
    "list1 = [5, 10, 15, 20, 25, 50, 20]\n",
    "list1 = str(list1).replace(\"20\", \"200\", 1)\n",
    "eval(list1)"
   ]
  },
  {
   "cell_type": "markdown",
   "id": "a02cec24-e24d-46c3-90e3-bafce1d05184",
   "metadata": {},
   "source": [
    "## write a code that sorts a tuple of tuples by 2nd item (number sorting).\n",
    "example--- my_tuple = (('a', 23),('b', 37),('c', 11), ('d',29))\n",
    "output----------(('c', 11), ('a', 23), ('d', 29), ('b', 37))"
   ]
  },
  {
   "cell_type": "code",
   "execution_count": 1,
   "id": "7a87bb66-750b-4404-883f-d8274883857a",
   "metadata": {},
   "outputs": [
    {
     "data": {
      "text/plain": [
       "[('c', 11), ('a', 23), ('d', 29), ('b', 37)]"
      ]
     },
     "execution_count": 1,
     "metadata": {},
     "output_type": "execute_result"
    }
   ],
   "source": [
    "my_tuple = (('a', 23),('b', 37),('c', 11), ('d',29))\n",
    "sorted_tuple = sorted(my_tuple, key=lambda item: item[1])\n",
    "sorted_tuple"
   ]
  },
  {
   "cell_type": "code",
   "execution_count": 2,
   "id": "bfe1ac70-54c5-4743-bd59-526af8ccc5b2",
   "metadata": {},
   "outputs": [
    {
     "data": {
      "text/plain": [
       "[('c', 11), ('a', 23), ('d', 29), ('b', 37)]"
      ]
     },
     "execution_count": 2,
     "metadata": {},
     "output_type": "execute_result"
    }
   ],
   "source": [
    "my_tuple = (('a', 23),('b', 37),('c', 11), ('d',29))\n",
    "sorted_tuple = sorted(my_tuple, key=lambda x: x[1])\n",
    "sorted_tuple"
   ]
  },
  {
   "cell_type": "markdown",
   "id": "e470c228-20ec-4c05-afc6-68947cc13205",
   "metadata": {},
   "source": [
    "## Write a code to reverse keys-values in a dictionary?\n",
    "{'A': 65, 'B': 66, 'C': 67, 'D': 68}---------------------------à {65: 'A', 66: 'B', 67: 'C', 68: 'D'}"
   ]
  },
  {
   "cell_type": "code",
   "execution_count": 5,
   "id": "076ca54f-c0cf-4adb-9075-c69a083cc060",
   "metadata": {},
   "outputs": [
    {
     "data": {
      "text/plain": [
       "{65: 'A', 66: 'B', 67: 'C', 68: 'D'}"
      ]
     },
     "execution_count": 5,
     "metadata": {},
     "output_type": "execute_result"
    }
   ],
   "source": [
    "dict_1= {'A': 65, 'B': 66, 'C': 67, 'D': 68}\n",
    "values = list (dict_1.keys())\n",
    "keys = list(dict_1.values())\n",
    "new_dict = dict(zip(keys,values))\n",
    "new_dict"
   ]
  },
  {
   "cell_type": "code",
   "execution_count": 9,
   "id": "6468c425-7bf7-430d-b1f2-cb0f1d64440f",
   "metadata": {},
   "outputs": [
    {
     "data": {
      "text/plain": [
       "{65: 'A', 66: 'B', 67: 'C', 68: 'D'}"
      ]
     },
     "execution_count": 9,
     "metadata": {},
     "output_type": "execute_result"
    }
   ],
   "source": [
    "dict_2= {'A': 65, 'B': 66, 'C': 67, 'D': 68}\n",
    "new_dict = dict(zip(dict_2.values(),dict_2.keys()))\n",
    "new_dict"
   ]
  },
  {
   "cell_type": "code",
   "execution_count": 10,
   "id": "163e5c3d-9bd0-44e3-9c10-6d9df6dd734a",
   "metadata": {},
   "outputs": [
    {
     "name": "stdout",
     "output_type": "stream",
     "text": [
      "{65: 'A', 66: 'B', 67: 'C', 68: 'D'}\n"
     ]
    }
   ],
   "source": [
    "dict1 = {\"A\": 65, \"B\": 66, \"C\": 67, \"D\":68}\n",
    "rev_dict= {value : key for (key, value) in dict1.items()}\n",
    "print(rev_dict)"
   ]
  },
  {
   "cell_type": "code",
   "execution_count": 11,
   "id": "0461ea0a-76db-4723-8309-e551c2c161d1",
   "metadata": {},
   "outputs": [
    {
     "name": "stdout",
     "output_type": "stream",
     "text": [
      "{65: 'A', 66: 'B', 67: 'C', 68: 'D'}\n"
     ]
    }
   ],
   "source": [
    "dict1 = {\"A\": 65, \"B\": 66, \"C\": 67, \"D\":68}\n",
    "new_dict = {value: key for key, value in dict1.items()}\n",
    "print(new_dict)"
   ]
  },
  {
   "cell_type": "markdown",
   "id": "20cf42ef-c466-4104-aec1-52c2e2136ca1",
   "metadata": {},
   "source": [
    "## DF'i renklendirme"
   ]
  },
  {
   "cell_type": "code",
   "execution_count": 3,
   "id": "49e18648-76c8-4a98-b7a2-aeb628425a6c",
   "metadata": {},
   "outputs": [
    {
     "data": {
      "text/html": [
       "<style type=\"text/css\">\n",
       "#T_4d298_row0_col0, #T_4d298_row0_col1, #T_4d298_row0_col2, #T_4d298_row1_col1, #T_4d298_row1_col3, #T_4d298_row2_col2, #T_4d298_row3_col2, #T_4d298_row3_col3 {\n",
       "  color: blue;\n",
       "}\n",
       "#T_4d298_row0_col3, #T_4d298_row1_col0, #T_4d298_row1_col2, #T_4d298_row2_col0, #T_4d298_row2_col1, #T_4d298_row2_col3, #T_4d298_row3_col0, #T_4d298_row3_col1 {\n",
       "  color: green;\n",
       "}\n",
       "</style>\n",
       "<table id=\"T_4d298_\">\n",
       "  <thead>\n",
       "    <tr>\n",
       "      <th class=\"blank level0\" >&nbsp;</th>\n",
       "      <th class=\"col_heading level0 col0\" >0</th>\n",
       "      <th class=\"col_heading level0 col1\" >1</th>\n",
       "      <th class=\"col_heading level0 col2\" >2</th>\n",
       "      <th class=\"col_heading level0 col3\" >3</th>\n",
       "    </tr>\n",
       "  </thead>\n",
       "  <tbody>\n",
       "    <tr>\n",
       "      <th id=\"T_4d298_level0_row0\" class=\"row_heading level0 row0\" >0</th>\n",
       "      <td id=\"T_4d298_row0_col0\" class=\"data row0 col0\" >-1.415681</td>\n",
       "      <td id=\"T_4d298_row0_col1\" class=\"data row0 col1\" >-1.415747</td>\n",
       "      <td id=\"T_4d298_row0_col2\" class=\"data row0 col2\" >-1.474232</td>\n",
       "      <td id=\"T_4d298_row0_col3\" class=\"data row0 col3\" >0.071958</td>\n",
       "    </tr>\n",
       "    <tr>\n",
       "      <th id=\"T_4d298_level0_row1\" class=\"row_heading level0 row1\" >1</th>\n",
       "      <td id=\"T_4d298_row1_col0\" class=\"data row1 col0\" >1.475140</td>\n",
       "      <td id=\"T_4d298_row1_col1\" class=\"data row1 col1\" >-0.592934</td>\n",
       "      <td id=\"T_4d298_row1_col2\" class=\"data row1 col2\" >0.300418</td>\n",
       "      <td id=\"T_4d298_row1_col3\" class=\"data row1 col3\" >-1.293792</td>\n",
       "    </tr>\n",
       "    <tr>\n",
       "      <th id=\"T_4d298_level0_row2\" class=\"row_heading level0 row2\" >2</th>\n",
       "      <td id=\"T_4d298_row2_col0\" class=\"data row2 col0\" >0.706297</td>\n",
       "      <td id=\"T_4d298_row2_col1\" class=\"data row2 col1\" >0.170946</td>\n",
       "      <td id=\"T_4d298_row2_col2\" class=\"data row2 col2\" >-1.807163</td>\n",
       "      <td id=\"T_4d298_row2_col3\" class=\"data row2 col3\" >1.216054</td>\n",
       "    </tr>\n",
       "    <tr>\n",
       "      <th id=\"T_4d298_level0_row3\" class=\"row_heading level0 row3\" >3</th>\n",
       "      <td id=\"T_4d298_row3_col0\" class=\"data row3 col0\" >0.982504</td>\n",
       "      <td id=\"T_4d298_row3_col1\" class=\"data row3 col1\" >0.004480</td>\n",
       "      <td id=\"T_4d298_row3_col2\" class=\"data row3 col2\" >-0.626337</td>\n",
       "      <td id=\"T_4d298_row3_col3\" class=\"data row3 col3\" >-0.366338</td>\n",
       "    </tr>\n",
       "  </tbody>\n",
       "</table>\n"
      ],
      "text/plain": [
       "<pandas.io.formats.style.Styler at 0x1a1a4409c40>"
      ]
     },
     "execution_count": 3,
     "metadata": {},
     "output_type": "execute_result"
    }
   ],
   "source": [
    "import pandas as pd\n",
    "import numpy as np\n",
    "\n",
    "def color_df(val) :\n",
    "    color = 'blue' if val < 0 else 'green'\n",
    "    return 'color: %s' % color\n",
    "\n",
    "df = pd.DataFrame(np.random.randn(4, 4))\n",
    "df.style.applymap(color_df)"
   ]
  },
  {
   "cell_type": "code",
   "execution_count": null,
   "id": "cf0a9c5f-a4f7-4633-b1d0-a450345d9f23",
   "metadata": {},
   "outputs": [],
   "source": []
  }
 ],
 "metadata": {
  "kernelspec": {
   "display_name": "Python 3 (ipykernel)",
   "language": "python",
   "name": "python3"
  },
  "language_info": {
   "codemirror_mode": {
    "name": "ipython",
    "version": 3
   },
   "file_extension": ".py",
   "mimetype": "text/x-python",
   "name": "python",
   "nbconvert_exporter": "python",
   "pygments_lexer": "ipython3",
   "version": "3.9.7"
  }
 },
 "nbformat": 4,
 "nbformat_minor": 5
}
